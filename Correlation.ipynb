{
 "cells": [
  {
   "cell_type": "code",
   "execution_count": 1,
   "id": "e19c2c11",
   "metadata": {},
   "outputs": [],
   "source": [
    "#import libraries\n",
    "import numpy as np\n",
    "import pandas as pd\n",
    "import seaborn as sb\n",
    "import matplotlib.pyplot as plt\n",
    "%matplotlib inline\n"
   ]
  },
  {
   "cell_type": "code",
   "execution_count": 2,
   "id": "b86e6cba",
   "metadata": {},
   "outputs": [],
   "source": [
    "plt.rcParams['figure.figsize'] = (12,5) #Adjust configuration of created plots"
   ]
  },
  {
   "cell_type": "code",
   "execution_count": 3,
   "id": "c4d34474",
   "metadata": {},
   "outputs": [],
   "source": [
    "#load data into dataframe movies\n",
    "movies = pd.read_csv('movies.csv')"
   ]
  },
  {
   "cell_type": "code",
   "execution_count": 4,
   "id": "338e5e2d",
   "metadata": {},
   "outputs": [
    {
     "data": {
      "text/html": [
       "<div>\n",
       "<style scoped>\n",
       "    .dataframe tbody tr th:only-of-type {\n",
       "        vertical-align: middle;\n",
       "    }\n",
       "\n",
       "    .dataframe tbody tr th {\n",
       "        vertical-align: top;\n",
       "    }\n",
       "\n",
       "    .dataframe thead th {\n",
       "        text-align: right;\n",
       "    }\n",
       "</style>\n",
       "<table border=\"1\" class=\"dataframe\">\n",
       "  <thead>\n",
       "    <tr style=\"text-align: right;\">\n",
       "      <th></th>\n",
       "      <th>name</th>\n",
       "      <th>rating</th>\n",
       "      <th>genre</th>\n",
       "      <th>year</th>\n",
       "      <th>released</th>\n",
       "      <th>score</th>\n",
       "      <th>votes</th>\n",
       "      <th>director</th>\n",
       "      <th>writer</th>\n",
       "      <th>star</th>\n",
       "      <th>country</th>\n",
       "      <th>budget</th>\n",
       "      <th>gross</th>\n",
       "      <th>company</th>\n",
       "      <th>runtime</th>\n",
       "    </tr>\n",
       "  </thead>\n",
       "  <tbody>\n",
       "    <tr>\n",
       "      <th>0</th>\n",
       "      <td>The Shining</td>\n",
       "      <td>R</td>\n",
       "      <td>Drama</td>\n",
       "      <td>1980</td>\n",
       "      <td>June 13, 1980 (United States)</td>\n",
       "      <td>8.4</td>\n",
       "      <td>927000.0</td>\n",
       "      <td>Stanley Kubrick</td>\n",
       "      <td>Stephen King</td>\n",
       "      <td>Jack Nicholson</td>\n",
       "      <td>United Kingdom</td>\n",
       "      <td>19000000.0</td>\n",
       "      <td>46998772.0</td>\n",
       "      <td>Warner Bros.</td>\n",
       "      <td>146.0</td>\n",
       "    </tr>\n",
       "    <tr>\n",
       "      <th>1</th>\n",
       "      <td>The Blue Lagoon</td>\n",
       "      <td>R</td>\n",
       "      <td>Adventure</td>\n",
       "      <td>1980</td>\n",
       "      <td>July 2, 1980 (United States)</td>\n",
       "      <td>5.8</td>\n",
       "      <td>65000.0</td>\n",
       "      <td>Randal Kleiser</td>\n",
       "      <td>Henry De Vere Stacpoole</td>\n",
       "      <td>Brooke Shields</td>\n",
       "      <td>United States</td>\n",
       "      <td>4500000.0</td>\n",
       "      <td>58853106.0</td>\n",
       "      <td>Columbia Pictures</td>\n",
       "      <td>104.0</td>\n",
       "    </tr>\n",
       "    <tr>\n",
       "      <th>2</th>\n",
       "      <td>Star Wars: Episode V - The Empire Strikes Back</td>\n",
       "      <td>PG</td>\n",
       "      <td>Action</td>\n",
       "      <td>1980</td>\n",
       "      <td>June 20, 1980 (United States)</td>\n",
       "      <td>8.7</td>\n",
       "      <td>1200000.0</td>\n",
       "      <td>Irvin Kershner</td>\n",
       "      <td>Leigh Brackett</td>\n",
       "      <td>Mark Hamill</td>\n",
       "      <td>United States</td>\n",
       "      <td>18000000.0</td>\n",
       "      <td>538375067.0</td>\n",
       "      <td>Lucasfilm</td>\n",
       "      <td>124.0</td>\n",
       "    </tr>\n",
       "    <tr>\n",
       "      <th>3</th>\n",
       "      <td>Airplane!</td>\n",
       "      <td>PG</td>\n",
       "      <td>Comedy</td>\n",
       "      <td>1980</td>\n",
       "      <td>July 2, 1980 (United States)</td>\n",
       "      <td>7.7</td>\n",
       "      <td>221000.0</td>\n",
       "      <td>Jim Abrahams</td>\n",
       "      <td>Jim Abrahams</td>\n",
       "      <td>Robert Hays</td>\n",
       "      <td>United States</td>\n",
       "      <td>3500000.0</td>\n",
       "      <td>83453539.0</td>\n",
       "      <td>Paramount Pictures</td>\n",
       "      <td>88.0</td>\n",
       "    </tr>\n",
       "    <tr>\n",
       "      <th>4</th>\n",
       "      <td>Caddyshack</td>\n",
       "      <td>R</td>\n",
       "      <td>Comedy</td>\n",
       "      <td>1980</td>\n",
       "      <td>July 25, 1980 (United States)</td>\n",
       "      <td>7.3</td>\n",
       "      <td>108000.0</td>\n",
       "      <td>Harold Ramis</td>\n",
       "      <td>Brian Doyle-Murray</td>\n",
       "      <td>Chevy Chase</td>\n",
       "      <td>United States</td>\n",
       "      <td>6000000.0</td>\n",
       "      <td>39846344.0</td>\n",
       "      <td>Orion Pictures</td>\n",
       "      <td>98.0</td>\n",
       "    </tr>\n",
       "  </tbody>\n",
       "</table>\n",
       "</div>"
      ],
      "text/plain": [
       "                                             name rating      genre  year  \\\n",
       "0                                     The Shining      R      Drama  1980   \n",
       "1                                 The Blue Lagoon      R  Adventure  1980   \n",
       "2  Star Wars: Episode V - The Empire Strikes Back     PG     Action  1980   \n",
       "3                                       Airplane!     PG     Comedy  1980   \n",
       "4                                      Caddyshack      R     Comedy  1980   \n",
       "\n",
       "                        released  score      votes         director  \\\n",
       "0  June 13, 1980 (United States)    8.4   927000.0  Stanley Kubrick   \n",
       "1   July 2, 1980 (United States)    5.8    65000.0   Randal Kleiser   \n",
       "2  June 20, 1980 (United States)    8.7  1200000.0   Irvin Kershner   \n",
       "3   July 2, 1980 (United States)    7.7   221000.0     Jim Abrahams   \n",
       "4  July 25, 1980 (United States)    7.3   108000.0     Harold Ramis   \n",
       "\n",
       "                    writer            star         country      budget  \\\n",
       "0             Stephen King  Jack Nicholson  United Kingdom  19000000.0   \n",
       "1  Henry De Vere Stacpoole  Brooke Shields   United States   4500000.0   \n",
       "2           Leigh Brackett     Mark Hamill   United States  18000000.0   \n",
       "3             Jim Abrahams     Robert Hays   United States   3500000.0   \n",
       "4       Brian Doyle-Murray     Chevy Chase   United States   6000000.0   \n",
       "\n",
       "         gross             company  runtime  \n",
       "0   46998772.0        Warner Bros.    146.0  \n",
       "1   58853106.0   Columbia Pictures    104.0  \n",
       "2  538375067.0           Lucasfilm    124.0  \n",
       "3   83453539.0  Paramount Pictures     88.0  \n",
       "4   39846344.0      Orion Pictures     98.0  "
      ]
     },
     "execution_count": 4,
     "metadata": {},
     "output_type": "execute_result"
    }
   ],
   "source": [
    "#view dataframe\n",
    "movies.head()"
   ]
  },
  {
   "cell_type": "markdown",
   "id": "18f45584",
   "metadata": {},
   "source": [
    "### Cleaning the data"
   ]
  },
  {
   "cell_type": "code",
   "execution_count": 21,
   "id": "0c17d636",
   "metadata": {},
   "outputs": [],
   "source": [
    "#make a copy of original dataframe\n",
    "movie = movies.copy()"
   ]
  },
  {
   "cell_type": "code",
   "execution_count": 29,
   "id": "aba60dac",
   "metadata": {},
   "outputs": [
    {
     "data": {
      "text/plain": [
       "(7668, 15)"
      ]
     },
     "execution_count": 29,
     "metadata": {},
     "output_type": "execute_result"
    }
   ],
   "source": [
    "#check shape of the original dataframe\n",
    "movies.shape"
   ]
  },
  {
   "cell_type": "code",
   "execution_count": 23,
   "id": "8ee51fa0",
   "metadata": {},
   "outputs": [
    {
     "data": {
      "text/plain": [
       "name           0\n",
       "rating        77\n",
       "genre          0\n",
       "year           0\n",
       "released       2\n",
       "score          3\n",
       "votes          3\n",
       "director       0\n",
       "writer         3\n",
       "star           1\n",
       "country        3\n",
       "budget      2171\n",
       "gross        189\n",
       "company       17\n",
       "runtime        4\n",
       "dtype: int64"
      ]
     },
     "execution_count": 23,
     "metadata": {},
     "output_type": "execute_result"
    }
   ],
   "source": [
    "#checking for null values\n",
    "movie.isnull().sum()"
   ]
  },
  {
   "cell_type": "code",
   "execution_count": 25,
   "id": "95880865",
   "metadata": {},
   "outputs": [],
   "source": [
    "#drop missing columns\n",
    "movie.dropna(inplace = True)"
   ]
  },
  {
   "cell_type": "code",
   "execution_count": 27,
   "id": "d4a39878",
   "metadata": {},
   "outputs": [
    {
     "data": {
      "text/plain": [
       "name        0\n",
       "rating      0\n",
       "genre       0\n",
       "year        0\n",
       "released    0\n",
       "score       0\n",
       "votes       0\n",
       "director    0\n",
       "writer      0\n",
       "star        0\n",
       "country     0\n",
       "budget      0\n",
       "gross       0\n",
       "company     0\n",
       "runtime     0\n",
       "dtype: int64"
      ]
     },
     "execution_count": 27,
     "metadata": {},
     "output_type": "execute_result"
    }
   ],
   "source": [
    "#check to see if columns were dropped\n",
    "movie.isnull().sum()"
   ]
  },
  {
   "cell_type": "code",
   "execution_count": 30,
   "id": "8be0af2e",
   "metadata": {},
   "outputs": [
    {
     "data": {
      "text/plain": [
       "(5421, 15)"
      ]
     },
     "execution_count": 30,
     "metadata": {},
     "output_type": "execute_result"
    }
   ],
   "source": [
    "#check for new shape after dropping null columns\n",
    "movie.shape"
   ]
  },
  {
   "cell_type": "code",
   "execution_count": 31,
   "id": "8100dcf3",
   "metadata": {},
   "outputs": [
    {
     "data": {
      "text/plain": [
       "name         object\n",
       "rating       object\n",
       "genre        object\n",
       "year          int64\n",
       "released     object\n",
       "score       float64\n",
       "votes       float64\n",
       "director     object\n",
       "writer       object\n",
       "star         object\n",
       "country      object\n",
       "budget      float64\n",
       "gross       float64\n",
       "company      object\n",
       "runtime     float64\n",
       "dtype: object"
      ]
     },
     "execution_count": 31,
     "metadata": {},
     "output_type": "execute_result"
    }
   ],
   "source": [
    "#check to see if columns are of the right datatypes\n",
    "movie.dtypes"
   ]
  },
  {
   "cell_type": "code",
   "execution_count": 32,
   "id": "1d454171",
   "metadata": {},
   "outputs": [],
   "source": [
    "#change the budget and gross columns to the int datatype\n",
    "movie.budget = movie.budget.astype(int)\n",
    "movie.gross = movie.gross.astype(int)"
   ]
  },
  {
   "cell_type": "code",
   "execution_count": 66,
   "id": "eadef604",
   "metadata": {},
   "outputs": [
    {
     "data": {
      "text/plain": [
       "name                object\n",
       "rating              object\n",
       "genre               object\n",
       "score              float64\n",
       "votes              float64\n",
       "director            object\n",
       "writer              object\n",
       "star                object\n",
       "budget               int32\n",
       "gross                int32\n",
       "company             object\n",
       "runtime            float64\n",
       "release_month       object\n",
       "release_year         int32\n",
       "release_country     object\n",
       "dtype: object"
      ]
     },
     "execution_count": 66,
     "metadata": {},
     "output_type": "execute_result"
    }
   ],
   "source": [
    "#check to see if columns where converted to the right datatype\n",
    "movie.dtypes"
   ]
  },
  {
   "cell_type": "code",
   "execution_count": 34,
   "id": "7d9bc83d",
   "metadata": {},
   "outputs": [],
   "source": [
    "#split the released column into release_month,release_year and release_country columns\n",
    "movie['release_month'] = movie.released.str.extract('(^[A-Z][a-z]+)')\n",
    "movie['release_year'] = movie.released.str.extract('(\\d{4})'))\n",
    "movie['release_country'] = movie.released.str.extract('\\(([^)]+)\\)')"
   ]
  },
  {
   "cell_type": "code",
   "execution_count": 37,
   "id": "7de149f8",
   "metadata": {},
   "outputs": [
    {
     "data": {
      "text/html": [
       "<div>\n",
       "<style scoped>\n",
       "    .dataframe tbody tr th:only-of-type {\n",
       "        vertical-align: middle;\n",
       "    }\n",
       "\n",
       "    .dataframe tbody tr th {\n",
       "        vertical-align: top;\n",
       "    }\n",
       "\n",
       "    .dataframe thead th {\n",
       "        text-align: right;\n",
       "    }\n",
       "</style>\n",
       "<table border=\"1\" class=\"dataframe\">\n",
       "  <thead>\n",
       "    <tr style=\"text-align: right;\">\n",
       "      <th></th>\n",
       "      <th>name</th>\n",
       "      <th>rating</th>\n",
       "      <th>genre</th>\n",
       "      <th>year</th>\n",
       "      <th>released</th>\n",
       "      <th>score</th>\n",
       "      <th>votes</th>\n",
       "      <th>director</th>\n",
       "      <th>writer</th>\n",
       "      <th>star</th>\n",
       "      <th>country</th>\n",
       "      <th>budget</th>\n",
       "      <th>gross</th>\n",
       "      <th>company</th>\n",
       "      <th>runtime</th>\n",
       "      <th>release_month</th>\n",
       "      <th>release_year</th>\n",
       "      <th>release_country</th>\n",
       "    </tr>\n",
       "  </thead>\n",
       "  <tbody>\n",
       "    <tr>\n",
       "      <th>3292</th>\n",
       "      <td>The Horse Whisperer</td>\n",
       "      <td>PG-13</td>\n",
       "      <td>Drama</td>\n",
       "      <td>1998</td>\n",
       "      <td>May 15, 1998 (United States)</td>\n",
       "      <td>6.6</td>\n",
       "      <td>40000.0</td>\n",
       "      <td>Robert Redford</td>\n",
       "      <td>Nick Evans</td>\n",
       "      <td>Robert Redford</td>\n",
       "      <td>United States</td>\n",
       "      <td>60000000</td>\n",
       "      <td>186883563</td>\n",
       "      <td>Touchstone Pictures</td>\n",
       "      <td>169.0</td>\n",
       "      <td>May</td>\n",
       "      <td>1998</td>\n",
       "      <td>United States</td>\n",
       "    </tr>\n",
       "  </tbody>\n",
       "</table>\n",
       "</div>"
      ],
      "text/plain": [
       "                     name rating  genre  year                      released  \\\n",
       "3292  The Horse Whisperer  PG-13  Drama  1998  May 15, 1998 (United States)   \n",
       "\n",
       "      score    votes        director      writer            star  \\\n",
       "3292    6.6  40000.0  Robert Redford  Nick Evans  Robert Redford   \n",
       "\n",
       "            country    budget      gross              company  runtime  \\\n",
       "3292  United States  60000000  186883563  Touchstone Pictures    169.0   \n",
       "\n",
       "     release_month release_year release_country  \n",
       "3292           May         1998   United States  "
      ]
     },
     "execution_count": 37,
     "metadata": {},
     "output_type": "execute_result"
    }
   ],
   "source": [
    "#check to see if columns were successfully created\n",
    "movie.sample()"
   ]
  },
  {
   "cell_type": "code",
   "execution_count": 39,
   "id": "a355d092",
   "metadata": {},
   "outputs": [],
   "source": [
    "#drop the released, country, year columns since they aren't needed anymore\n",
    "movie.drop(['released','country','year'],axis = 1, inplace = True)"
   ]
  },
  {
   "cell_type": "code",
   "execution_count": 40,
   "id": "39aa2215",
   "metadata": {},
   "outputs": [
    {
     "data": {
      "text/html": [
       "<div>\n",
       "<style scoped>\n",
       "    .dataframe tbody tr th:only-of-type {\n",
       "        vertical-align: middle;\n",
       "    }\n",
       "\n",
       "    .dataframe tbody tr th {\n",
       "        vertical-align: top;\n",
       "    }\n",
       "\n",
       "    .dataframe thead th {\n",
       "        text-align: right;\n",
       "    }\n",
       "</style>\n",
       "<table border=\"1\" class=\"dataframe\">\n",
       "  <thead>\n",
       "    <tr style=\"text-align: right;\">\n",
       "      <th></th>\n",
       "      <th>name</th>\n",
       "      <th>rating</th>\n",
       "      <th>genre</th>\n",
       "      <th>score</th>\n",
       "      <th>votes</th>\n",
       "      <th>director</th>\n",
       "      <th>writer</th>\n",
       "      <th>star</th>\n",
       "      <th>budget</th>\n",
       "      <th>gross</th>\n",
       "      <th>company</th>\n",
       "      <th>runtime</th>\n",
       "      <th>release_month</th>\n",
       "      <th>release_year</th>\n",
       "      <th>release_country</th>\n",
       "    </tr>\n",
       "  </thead>\n",
       "  <tbody>\n",
       "    <tr>\n",
       "      <th>4399</th>\n",
       "      <td>Latter Days</td>\n",
       "      <td>R</td>\n",
       "      <td>Comedy</td>\n",
       "      <td>7.0</td>\n",
       "      <td>17000.0</td>\n",
       "      <td>C. Jay Cox</td>\n",
       "      <td>C. Jay Cox</td>\n",
       "      <td>Wes Ramsey</td>\n",
       "      <td>850000</td>\n",
       "      <td>865028</td>\n",
       "      <td>Funny Boy Films</td>\n",
       "      <td>107.0</td>\n",
       "      <td>July</td>\n",
       "      <td>2004</td>\n",
       "      <td>Israel</td>\n",
       "    </tr>\n",
       "    <tr>\n",
       "      <th>4517</th>\n",
       "      <td>The Perfect Score</td>\n",
       "      <td>PG-13</td>\n",
       "      <td>Comedy</td>\n",
       "      <td>5.7</td>\n",
       "      <td>24000.0</td>\n",
       "      <td>Brian Robbins</td>\n",
       "      <td>Marc Hyman</td>\n",
       "      <td>Scarlett Johansson</td>\n",
       "      <td>40000000</td>\n",
       "      <td>10898337</td>\n",
       "      <td>Paramount Pictures</td>\n",
       "      <td>93.0</td>\n",
       "      <td>January</td>\n",
       "      <td>2004</td>\n",
       "      <td>United States</td>\n",
       "    </tr>\n",
       "    <tr>\n",
       "      <th>6249</th>\n",
       "      <td>Grown Ups 2</td>\n",
       "      <td>PG-13</td>\n",
       "      <td>Comedy</td>\n",
       "      <td>5.4</td>\n",
       "      <td>144000.0</td>\n",
       "      <td>Dennis Dugan</td>\n",
       "      <td>Fred Wolf</td>\n",
       "      <td>Adam Sandler</td>\n",
       "      <td>80000000</td>\n",
       "      <td>246984278</td>\n",
       "      <td>Columbia Pictures</td>\n",
       "      <td>101.0</td>\n",
       "      <td>July</td>\n",
       "      <td>2013</td>\n",
       "      <td>United States</td>\n",
       "    </tr>\n",
       "    <tr>\n",
       "      <th>5184</th>\n",
       "      <td>The Messengers</td>\n",
       "      <td>PG-13</td>\n",
       "      <td>Drama</td>\n",
       "      <td>5.4</td>\n",
       "      <td>39000.0</td>\n",
       "      <td>Danny Pang</td>\n",
       "      <td>Mark Wheaton</td>\n",
       "      <td>Dylan McDermott</td>\n",
       "      <td>16000000</td>\n",
       "      <td>55060212</td>\n",
       "      <td>Screen Gems</td>\n",
       "      <td>90.0</td>\n",
       "      <td>February</td>\n",
       "      <td>2007</td>\n",
       "      <td>United States</td>\n",
       "    </tr>\n",
       "    <tr>\n",
       "      <th>899</th>\n",
       "      <td>SpaceCamp</td>\n",
       "      <td>PG</td>\n",
       "      <td>Adventure</td>\n",
       "      <td>5.7</td>\n",
       "      <td>13000.0</td>\n",
       "      <td>Harry Winer</td>\n",
       "      <td>Clifford Green</td>\n",
       "      <td>Kate Capshaw</td>\n",
       "      <td>18000000</td>\n",
       "      <td>9697739</td>\n",
       "      <td>ABC Motion Pictures</td>\n",
       "      <td>107.0</td>\n",
       "      <td>June</td>\n",
       "      <td>1986</td>\n",
       "      <td>United States</td>\n",
       "    </tr>\n",
       "  </tbody>\n",
       "</table>\n",
       "</div>"
      ],
      "text/plain": [
       "                   name rating      genre  score     votes       director  \\\n",
       "4399        Latter Days      R     Comedy    7.0   17000.0     C. Jay Cox   \n",
       "4517  The Perfect Score  PG-13     Comedy    5.7   24000.0  Brian Robbins   \n",
       "6249        Grown Ups 2  PG-13     Comedy    5.4  144000.0   Dennis Dugan   \n",
       "5184     The Messengers  PG-13      Drama    5.4   39000.0     Danny Pang   \n",
       "899           SpaceCamp     PG  Adventure    5.7   13000.0    Harry Winer   \n",
       "\n",
       "              writer                star    budget      gross  \\\n",
       "4399      C. Jay Cox          Wes Ramsey    850000     865028   \n",
       "4517      Marc Hyman  Scarlett Johansson  40000000   10898337   \n",
       "6249       Fred Wolf        Adam Sandler  80000000  246984278   \n",
       "5184    Mark Wheaton     Dylan McDermott  16000000   55060212   \n",
       "899   Clifford Green        Kate Capshaw  18000000    9697739   \n",
       "\n",
       "                  company  runtime release_month release_year release_country  \n",
       "4399      Funny Boy Films    107.0          July         2004          Israel  \n",
       "4517   Paramount Pictures     93.0       January         2004   United States  \n",
       "6249    Columbia Pictures    101.0          July         2013   United States  \n",
       "5184          Screen Gems     90.0      February         2007   United States  \n",
       "899   ABC Motion Pictures    107.0          June         1986   United States  "
      ]
     },
     "execution_count": 40,
     "metadata": {},
     "output_type": "execute_result"
    }
   ],
   "source": [
    "#check to see if they were dropped\n",
    "movie.sample(5)"
   ]
  },
  {
   "cell_type": "code",
   "execution_count": 43,
   "id": "e4b9a5e8",
   "metadata": {},
   "outputs": [],
   "source": [
    "pd.set_option('display.max_rows',None)"
   ]
  },
  {
   "cell_type": "code",
   "execution_count": 46,
   "id": "64633383",
   "metadata": {},
   "outputs": [
    {
     "data": {
      "text/plain": [
       "0"
      ]
     },
     "execution_count": 46,
     "metadata": {},
     "output_type": "execute_result"
    }
   ],
   "source": [
    "#check for duplicated rows\n",
    "movie.duplicated().sum()"
   ]
  },
  {
   "cell_type": "markdown",
   "id": "8f4d710d",
   "metadata": {},
   "source": [
    "### Visualization"
   ]
  },
  {
   "cell_type": "code",
   "execution_count": 55,
   "id": "a963b01b",
   "metadata": {},
   "outputs": [
    {
     "data": {
      "image/png": "[encoded data removed]",
      "text/plain": [
       "<Figure size 864x360 with 1 Axes>"
      ]
     },
     "metadata": {
      "needs_background": "light"
     },
     "output_type": "display_data"
    }
   ],
   "source": [
    "#checking for correlation bretween the budget and the gross columns with the aid of a scatterplot\n",
    "plt.scatter(data = movie, x = 'budget', y  = 'gross', s = 20)\n",
    "plt.xlabel(\"Budget\")\n",
    "plt.ylabel(\"Gross\")\n",
    "plt.title(\"Relationship between budget and gross\");"
   ]
  },
  {
   "cell_type": "code",
   "execution_count": 62,
   "id": "cefebfde",
   "metadata": {},
   "outputs": [
    {
     "data": {
      "image/png": "[encoded data removed]",
      "text/plain": [
       "<Figure size 864x360 with 1 Axes>"
      ]
     },
     "metadata": {
      "needs_background": "light"
     },
     "output_type": "display_data"
    }
   ],
   "source": [
    "#scatterplot using seaborns regplot\n",
    "sb.regplot(data = movie, x = 'budget', y  = 'gross', scatter_kws={'color':'red'},line_kws={'color':'blue'})\n",
    "plt.xlabel(\"Budget\")\n",
    "plt.ylabel(\"Gross\")\n",
    "plt.title(\"Relationship between budget and gross\");"
   ]
  },
  {
   "cell_type": "code",
   "execution_count": 69,
   "id": "33550277",
   "metadata": {},
   "outputs": [],
   "source": [
    "correlation_matrix = movie.corr()"
   ]
  },
  {
   "cell_type": "code",
   "execution_count": 71,
   "id": "f8d51c9d",
   "metadata": {},
   "outputs": [
    {
     "data": {
      "image/png": "[encoded data removed]",
      "text/plain": [
       "<Figure size 864x360 with 2 Axes>"
      ]
     },
     "metadata": {
      "needs_background": "light"
     },
     "output_type": "display_data"
    }
   ],
   "source": [
    "#using a heatmap to show correlation between all the numerical values in the data frame\n",
    "sb.heatmap(correlation_matrix, annot = True)\n",
    "plt.xlabel(\"Movie Features\")\n",
    "plt.ylabel(\"Movie Features\")\n",
    "plt.title(\"Relationship between Numerical features\");"
   ]
  },
  {
   "cell_type": "code",
   "execution_count": null,
   "id": "b25a6464",
   "metadata": {},
   "outputs": [],
   "source": []
  },
  {
   "cell_type": "code",
   "execution_count": null,
   "id": "367ea6e3",
   "metadata": {},
   "outputs": [],
   "source": []
  },
  {
   "cell_type": "code",
   "execution_count": null,
   "id": "924d3adb",
   "metadata": {},
   "outputs": [],
   "source": []
  }
 ],
 "metadata": {
  "kernelspec": {
   "display_name": "Python 3 (ipykernel)",
   "language": "python",
   "name": "python3"
  },
  "language_info": {
   "codemirror_mode": {
    "name": "ipython",
    "version": 3
   },
   "file_extension": ".py",
   "mimetype": "text/x-python",
   "name": "python",
   "nbconvert_exporter": "python",
   "pygments_lexer": "ipython3",
   "version": "3.9.12"
  }
 },
 "nbformat": 4,
 "nbformat_minor": 5
}
